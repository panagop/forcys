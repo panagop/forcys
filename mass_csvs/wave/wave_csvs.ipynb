{
 "cells": [
  {
   "cell_type": "code",
   "execution_count": 1,
   "metadata": {},
   "outputs": [],
   "source": [
    "import csv\n",
    "from dataclasses import dataclass\n",
    "from forcys.time_funcs import timestring\n",
    "from forcys.wavedata import WaveDataFile, WaveVariable\n",
    "from datetime import datetime\n",
    "import pandas as pd\n",
    "import os\n",
    "import numpy as np"
   ]
  },
  {
   "cell_type": "code",
   "execution_count": 2,
   "metadata": {},
   "outputs": [],
   "source": [
    "@dataclass\n",
    "class LocationPointData:\n",
    "    location: str\n",
    "    point: int\n",
    "    lon: float\n",
    "    lat: float"
   ]
  },
  {
   "cell_type": "code",
   "execution_count": 3,
   "metadata": {},
   "outputs": [
    {
     "name": "stdout",
     "output_type": "stream",
     "text": [
      "{'location': 'AgApostoloi', 'point': '3', 'lon': '24.250002', 'lat': '38.354168'}\n",
      "{'location': 'AgApostoloi', 'point': '8', 'lon': '24.291668', 'lat': '38.354168'}\n",
      "{'location': 'Gyaros', 'point': '18', 'lon': '24.666668', 'lat': '37.645832'}\n",
      "{'location': 'Gyaros', 'point': '20', 'lon': '24.708334', 'lat': '37.5625'}\n",
      "{'location': 'Donousa2', 'point': '4', 'lon': '25.875002', 'lat': '37.104168'}\n",
      "{'location': 'Donousa2', 'point': '7', 'lon': '25.916668', 'lat': '37.104168'}\n",
      "{'location': 'Crete1', 'point': '15', 'lon': '26.375002', 'lat': '35.104168'}\n",
      "{'location': 'Crete1', 'point': '22', 'lon': '26.416668', 'lat': '35.145832'}\n",
      "{'location': 'Crete2b', 'point': '13', 'lon': '25.791668', 'lat': '35.354168'}\n",
      "{'location': 'Crete2b', 'point': '17', 'lon': '25.833334', 'lat': '35.3125'}\n",
      "{'location': 'Rhodes', 'point': '7', 'lon': '27.666668', 'lat': '35.8125'}\n",
      "{'location': 'Rhodes', 'point': '11', 'lon': '27.708334', 'lat': '35.854168'}\n",
      "{'location': 'Chios', 'point': '6', 'lon': '25.833334', 'lat': '38.604168'}\n",
      "{'location': 'Chios', 'point': '10', 'lon': '25.791668', 'lat': '38.604168'}\n"
     ]
    }
   ],
   "source": [
    "filename = 'wave_points_in_7locations.csv'\n",
    "location_points: list[LocationPointData] = []\n",
    "\n",
    "with open(filename, 'r') as csvfile:\n",
    "    datareader = csv.DictReader(csvfile, delimiter=',')\n",
    "    for row in datareader:\n",
    "        print(row)\n",
    "        location_point = LocationPointData(\n",
    "            location=row['location'],\n",
    "            point=int(row['point']),\n",
    "            lon=float(row['lon']),\n",
    "            lat=float(row['lat'])\n",
    "        )\n",
    "        location_points.append(location_point)"
   ]
  },
  {
   "cell_type": "code",
   "execution_count": 4,
   "metadata": {},
   "outputs": [
    {
     "data": {
      "text/plain": [
       "[LocationPointData(location='AgApostoloi', point=3, lon=24.250002, lat=38.354168),\n",
       " LocationPointData(location='AgApostoloi', point=8, lon=24.291668, lat=38.354168),\n",
       " LocationPointData(location='Gyaros', point=18, lon=24.666668, lat=37.645832),\n",
       " LocationPointData(location='Gyaros', point=20, lon=24.708334, lat=37.5625),\n",
       " LocationPointData(location='Donousa2', point=4, lon=25.875002, lat=37.104168),\n",
       " LocationPointData(location='Donousa2', point=7, lon=25.916668, lat=37.104168),\n",
       " LocationPointData(location='Crete1', point=15, lon=26.375002, lat=35.104168),\n",
       " LocationPointData(location='Crete1', point=22, lon=26.416668, lat=35.145832),\n",
       " LocationPointData(location='Crete2b', point=13, lon=25.791668, lat=35.354168),\n",
       " LocationPointData(location='Crete2b', point=17, lon=25.833334, lat=35.3125),\n",
       " LocationPointData(location='Rhodes', point=7, lon=27.666668, lat=35.8125),\n",
       " LocationPointData(location='Rhodes', point=11, lon=27.708334, lat=35.854168),\n",
       " LocationPointData(location='Chios', point=6, lon=25.833334, lat=38.604168),\n",
       " LocationPointData(location='Chios', point=10, lon=25.791668, lat=38.604168)]"
      ]
     },
     "execution_count": 4,
     "metadata": {},
     "output_type": "execute_result"
    }
   ],
   "source": [
    "location_points"
   ]
  },
  {
   "cell_type": "code",
   "execution_count": 5,
   "metadata": {},
   "outputs": [
    {
     "name": "stdout",
     "output_type": "stream",
     "text": [
      "AgApostoloi_3\n",
      "lon found\n",
      "lat found\n"
     ]
    },
    {
     "name": "stderr",
     "output_type": "stream",
     "text": [
      "D:\\mypython_projects\\forcys\\src\\forcys\\wavedata.py:26: UserWarning: WARNING: valid_min not used since it\n",
      "cannot be safely cast to variable data type\n",
      "  return self.dataset.variables['time'][:]\n",
      "D:\\mypython_projects\\forcys\\src\\forcys\\wavedata.py:26: UserWarning: WARNING: valid_max not used since it\n",
      "cannot be safely cast to variable data type\n",
      "  return self.dataset.variables['time'][:]\n"
     ]
    },
    {
     "name": "stdout",
     "output_type": "stream",
     "text": [
      "---------------------------------\n",
      "AgApostoloi_8\n",
      "lon found\n",
      "lat found\n"
     ]
    },
    {
     "name": "stderr",
     "output_type": "stream",
     "text": [
      "D:\\mypython_projects\\forcys\\src\\forcys\\wavedata.py:26: UserWarning: WARNING: valid_min not used since it\n",
      "cannot be safely cast to variable data type\n",
      "  return self.dataset.variables['time'][:]\n",
      "D:\\mypython_projects\\forcys\\src\\forcys\\wavedata.py:26: UserWarning: WARNING: valid_max not used since it\n",
      "cannot be safely cast to variable data type\n",
      "  return self.dataset.variables['time'][:]\n"
     ]
    },
    {
     "name": "stdout",
     "output_type": "stream",
     "text": [
      "---------------------------------\n",
      "Gyaros_18\n",
      "lon found\n",
      "lat found\n"
     ]
    },
    {
     "name": "stderr",
     "output_type": "stream",
     "text": [
      "D:\\mypython_projects\\forcys\\src\\forcys\\wavedata.py:26: UserWarning: WARNING: valid_min not used since it\n",
      "cannot be safely cast to variable data type\n",
      "  return self.dataset.variables['time'][:]\n",
      "D:\\mypython_projects\\forcys\\src\\forcys\\wavedata.py:26: UserWarning: WARNING: valid_max not used since it\n",
      "cannot be safely cast to variable data type\n",
      "  return self.dataset.variables['time'][:]\n"
     ]
    },
    {
     "name": "stdout",
     "output_type": "stream",
     "text": [
      "---------------------------------\n",
      "Gyaros_20\n",
      "lon found\n",
      "lat found\n"
     ]
    },
    {
     "name": "stderr",
     "output_type": "stream",
     "text": [
      "D:\\mypython_projects\\forcys\\src\\forcys\\wavedata.py:26: UserWarning: WARNING: valid_min not used since it\n",
      "cannot be safely cast to variable data type\n",
      "  return self.dataset.variables['time'][:]\n",
      "D:\\mypython_projects\\forcys\\src\\forcys\\wavedata.py:26: UserWarning: WARNING: valid_max not used since it\n",
      "cannot be safely cast to variable data type\n",
      "  return self.dataset.variables['time'][:]\n"
     ]
    },
    {
     "name": "stdout",
     "output_type": "stream",
     "text": [
      "---------------------------------\n",
      "Donousa2_4\n",
      "lon found\n",
      "lat found\n"
     ]
    },
    {
     "name": "stderr",
     "output_type": "stream",
     "text": [
      "D:\\mypython_projects\\forcys\\src\\forcys\\wavedata.py:26: UserWarning: WARNING: valid_min not used since it\n",
      "cannot be safely cast to variable data type\n",
      "  return self.dataset.variables['time'][:]\n",
      "D:\\mypython_projects\\forcys\\src\\forcys\\wavedata.py:26: UserWarning: WARNING: valid_max not used since it\n",
      "cannot be safely cast to variable data type\n",
      "  return self.dataset.variables['time'][:]\n"
     ]
    },
    {
     "name": "stdout",
     "output_type": "stream",
     "text": [
      "---------------------------------\n",
      "Donousa2_7\n",
      "lon found\n",
      "lat found\n"
     ]
    },
    {
     "name": "stderr",
     "output_type": "stream",
     "text": [
      "D:\\mypython_projects\\forcys\\src\\forcys\\wavedata.py:26: UserWarning: WARNING: valid_min not used since it\n",
      "cannot be safely cast to variable data type\n",
      "  return self.dataset.variables['time'][:]\n",
      "D:\\mypython_projects\\forcys\\src\\forcys\\wavedata.py:26: UserWarning: WARNING: valid_max not used since it\n",
      "cannot be safely cast to variable data type\n",
      "  return self.dataset.variables['time'][:]\n"
     ]
    },
    {
     "name": "stdout",
     "output_type": "stream",
     "text": [
      "---------------------------------\n",
      "Crete1_15\n",
      "lon found\n",
      "lat found\n"
     ]
    },
    {
     "name": "stderr",
     "output_type": "stream",
     "text": [
      "D:\\mypython_projects\\forcys\\src\\forcys\\wavedata.py:26: UserWarning: WARNING: valid_min not used since it\n",
      "cannot be safely cast to variable data type\n",
      "  return self.dataset.variables['time'][:]\n",
      "D:\\mypython_projects\\forcys\\src\\forcys\\wavedata.py:26: UserWarning: WARNING: valid_max not used since it\n",
      "cannot be safely cast to variable data type\n",
      "  return self.dataset.variables['time'][:]\n"
     ]
    },
    {
     "name": "stdout",
     "output_type": "stream",
     "text": [
      "---------------------------------\n",
      "Crete1_22\n",
      "lon found\n",
      "lat found\n"
     ]
    },
    {
     "name": "stderr",
     "output_type": "stream",
     "text": [
      "D:\\mypython_projects\\forcys\\src\\forcys\\wavedata.py:26: UserWarning: WARNING: valid_min not used since it\n",
      "cannot be safely cast to variable data type\n",
      "  return self.dataset.variables['time'][:]\n",
      "D:\\mypython_projects\\forcys\\src\\forcys\\wavedata.py:26: UserWarning: WARNING: valid_max not used since it\n",
      "cannot be safely cast to variable data type\n",
      "  return self.dataset.variables['time'][:]\n"
     ]
    },
    {
     "name": "stdout",
     "output_type": "stream",
     "text": [
      "---------------------------------\n",
      "Crete2b_13\n",
      "lon found\n",
      "lat found\n"
     ]
    },
    {
     "name": "stderr",
     "output_type": "stream",
     "text": [
      "D:\\mypython_projects\\forcys\\src\\forcys\\wavedata.py:26: UserWarning: WARNING: valid_min not used since it\n",
      "cannot be safely cast to variable data type\n",
      "  return self.dataset.variables['time'][:]\n",
      "D:\\mypython_projects\\forcys\\src\\forcys\\wavedata.py:26: UserWarning: WARNING: valid_max not used since it\n",
      "cannot be safely cast to variable data type\n",
      "  return self.dataset.variables['time'][:]\n"
     ]
    },
    {
     "name": "stdout",
     "output_type": "stream",
     "text": [
      "---------------------------------\n",
      "Crete2b_17\n",
      "lon found\n",
      "lat found\n"
     ]
    },
    {
     "name": "stderr",
     "output_type": "stream",
     "text": [
      "D:\\mypython_projects\\forcys\\src\\forcys\\wavedata.py:26: UserWarning: WARNING: valid_min not used since it\n",
      "cannot be safely cast to variable data type\n",
      "  return self.dataset.variables['time'][:]\n",
      "D:\\mypython_projects\\forcys\\src\\forcys\\wavedata.py:26: UserWarning: WARNING: valid_max not used since it\n",
      "cannot be safely cast to variable data type\n",
      "  return self.dataset.variables['time'][:]\n"
     ]
    },
    {
     "name": "stdout",
     "output_type": "stream",
     "text": [
      "---------------------------------\n",
      "Rhodes_7\n",
      "lon found\n",
      "lat found\n"
     ]
    },
    {
     "name": "stderr",
     "output_type": "stream",
     "text": [
      "D:\\mypython_projects\\forcys\\src\\forcys\\wavedata.py:26: UserWarning: WARNING: valid_min not used since it\n",
      "cannot be safely cast to variable data type\n",
      "  return self.dataset.variables['time'][:]\n",
      "D:\\mypython_projects\\forcys\\src\\forcys\\wavedata.py:26: UserWarning: WARNING: valid_max not used since it\n",
      "cannot be safely cast to variable data type\n",
      "  return self.dataset.variables['time'][:]\n"
     ]
    },
    {
     "name": "stdout",
     "output_type": "stream",
     "text": [
      "---------------------------------\n",
      "Rhodes_11\n",
      "lon found\n",
      "lat found\n"
     ]
    },
    {
     "name": "stderr",
     "output_type": "stream",
     "text": [
      "D:\\mypython_projects\\forcys\\src\\forcys\\wavedata.py:26: UserWarning: WARNING: valid_min not used since it\n",
      "cannot be safely cast to variable data type\n",
      "  return self.dataset.variables['time'][:]\n",
      "D:\\mypython_projects\\forcys\\src\\forcys\\wavedata.py:26: UserWarning: WARNING: valid_max not used since it\n",
      "cannot be safely cast to variable data type\n",
      "  return self.dataset.variables['time'][:]\n"
     ]
    },
    {
     "name": "stdout",
     "output_type": "stream",
     "text": [
      "---------------------------------\n",
      "Chios_6\n",
      "lon found\n",
      "lat found\n"
     ]
    },
    {
     "name": "stderr",
     "output_type": "stream",
     "text": [
      "D:\\mypython_projects\\forcys\\src\\forcys\\wavedata.py:26: UserWarning: WARNING: valid_min not used since it\n",
      "cannot be safely cast to variable data type\n",
      "  return self.dataset.variables['time'][:]\n",
      "D:\\mypython_projects\\forcys\\src\\forcys\\wavedata.py:26: UserWarning: WARNING: valid_max not used since it\n",
      "cannot be safely cast to variable data type\n",
      "  return self.dataset.variables['time'][:]\n"
     ]
    },
    {
     "name": "stdout",
     "output_type": "stream",
     "text": [
      "---------------------------------\n",
      "Chios_10\n",
      "lon found\n",
      "lat found\n"
     ]
    },
    {
     "name": "stderr",
     "output_type": "stream",
     "text": [
      "D:\\mypython_projects\\forcys\\src\\forcys\\wavedata.py:26: UserWarning: WARNING: valid_min not used since it\n",
      "cannot be safely cast to variable data type\n",
      "  return self.dataset.variables['time'][:]\n",
      "D:\\mypython_projects\\forcys\\src\\forcys\\wavedata.py:26: UserWarning: WARNING: valid_max not used since it\n",
      "cannot be safely cast to variable data type\n",
      "  return self.dataset.variables['time'][:]\n"
     ]
    },
    {
     "name": "stdout",
     "output_type": "stream",
     "text": [
      "---------------------------------\n"
     ]
    }
   ],
   "source": [
    "path = r'D:\\mypython_projects\\forcys\\mass_downloads\\wave'\n",
    "\n",
    "for location_point in location_points:\n",
    "    file = path + rf'\\wave{location_point.location}.nc'\n",
    "    wdf = WaveDataFile.from_file(file)\n",
    "\n",
    "    print(f'{location_point.location}_{str(location_point.point)}')\n",
    "\n",
    "    if location_point.lon in wdf.lon:\n",
    "        print('lon found')\n",
    "    else:\n",
    "        print('lon not found')\n",
    "\n",
    "    if location_point.lat in wdf.lat:\n",
    "        print('lat found')\n",
    "    else:\n",
    "        print('lat not found')\n",
    "\n",
    "    multivariables = ['VHM0', 'VTPK', 'VMDR']\n",
    "    mydict = {'time': wdf.time}\n",
    "    for mv in multivariables:\n",
    "        temp_var = WaveVariable(wdf, mv)\n",
    "        mydict[mv] = temp_var.get_time_history_at_coords(\n",
    "            location_point.lat, location_point.lon)\n",
    "\n",
    "    df = pd.DataFrame(mydict)\n",
    "    df['time'] = pd.to_datetime(df['time'], unit='s') \n",
    "    df['time'] = df['time'].dt.strftime('%Y-%m-%d %H:%M:%S')\n",
    "\n",
    "    df.to_csv(f'{location_point.location}_{str(location_point.point)}.csv', index=False)\n",
    "\n",
    "\n",
    "    print('---------------------------------')\n",
    "\n"
   ]
  },
  {
   "cell_type": "code",
   "execution_count": 6,
   "metadata": {},
   "outputs": [
    {
     "name": "stdout",
     "output_type": "stream",
     "text": [
      "[25.750002, 25.791668, 25.833334]\n",
      "[38.5625, 38.604168, 38.645832, 38.6875]\n"
     ]
    }
   ],
   "source": [
    "print(list(wdf.lon))\n",
    "print(list(wdf.lat))"
   ]
  },
  {
   "cell_type": "code",
   "execution_count": 7,
   "metadata": {},
   "outputs": [
    {
     "name": "stdout",
     "output_type": "stream",
     "text": [
      "[725846400 725850000 725853600 725857200 725860800 725864400 725868000\n",
      " 725871600 725875200 725878800]\n"
     ]
    }
   ],
   "source": [
    "print(wdf.time[0:10])"
   ]
  },
  {
   "cell_type": "code",
   "execution_count": null,
   "metadata": {},
   "outputs": [],
   "source": []
  }
 ],
 "metadata": {
  "kernelspec": {
   "display_name": ".venv",
   "language": "python",
   "name": "python3"
  },
  "language_info": {
   "codemirror_mode": {
    "name": "ipython",
    "version": 3
   },
   "file_extension": ".py",
   "mimetype": "text/x-python",
   "name": "python",
   "nbconvert_exporter": "python",
   "pygments_lexer": "ipython3",
   "version": "3.11.7"
  }
 },
 "nbformat": 4,
 "nbformat_minor": 2
}
