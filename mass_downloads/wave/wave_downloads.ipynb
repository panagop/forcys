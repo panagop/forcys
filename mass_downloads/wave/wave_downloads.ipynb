{
 "cells": [
  {
   "cell_type": "code",
   "execution_count": 21,
   "metadata": {},
   "outputs": [],
   "source": [
    "import copernicusmarine as cm\n",
    "import csv\n",
    "from dataclasses import dataclass"
   ]
  },
  {
   "cell_type": "code",
   "execution_count": 22,
   "metadata": {},
   "outputs": [],
   "source": [
    "@dataclass\n",
    "class LocationData:\n",
    "    location: str\n",
    "    lon_min: float\n",
    "    lon_max: float\n",
    "    lat_min: float\n",
    "    lat_max: float\n"
   ]
  },
  {
   "cell_type": "code",
   "execution_count": 23,
   "metadata": {},
   "outputs": [],
   "source": [
    "DATASET_ID = \"med-hcmr-wav-rean-h\"\n",
    "DATASET_VERSION = \"202105\"\n",
    "VARIABLES = [\"VHM0\", \"VHM0_SW1\", \"VHM0_SW2\", \"VHM0_WW\", \"VMDR\", \"VMDR_SW1\", \"VMDR_SW2\", \"VMDR_WW\",\n",
    "             \"VPED\", \"VSDX\", \"VSDY\", \"VTM01_SW1\", \"VTM01_SW2\", \"VTM01_WW\", \"VTM02\", \"VTM10\", \"VTPK\"]\n",
    "START_DATETIME = \"1993-01-01T00:00:00\"\n",
    "END_DATETIME = \"2020-12-31T23:00:00\""
   ]
  },
  {
   "cell_type": "code",
   "execution_count": 24,
   "metadata": {},
   "outputs": [
    {
     "name": "stdout",
     "output_type": "stream",
     "text": [
      "{'location': 'AgApostoloi', 'lon_min': '24.23', 'lon_max': '24.39', 'lat_min': '38.25', 'lat_max': '38.47'}\n",
      "{'location': 'Gyaros', 'lon_min': '24.47', 'lon_max': '24.77', 'lat_min': '37.50', 'lat_max': '37.70'}\n",
      "{'location': 'Donousa2', 'lon_min': '25.81', 'lon_max': '26.02', 'lat_min': '37.05', 'lat_max': '37.16'}\n",
      "{'location': 'Crete1', 'lon_min': '26.27', 'lon_max': '26.47', 'lat_min': '34.96', 'lat_max': '35.20'}\n",
      "{'location': 'Crete2b', 'lon_min': '25.60', 'lon_max': '25.95', 'lat_min': '35.24', 'lat_max': '35.50'}\n",
      "{'location': 'Rhodes', 'lon_min': '27.55', 'lon_max': '27.77', 'lat_min': '35.77', 'lat_max': '36.20'}\n",
      "{'location': 'Chios', 'lon_min': '25.72', 'lon_max': '25.86', 'lat_min': '38.55', 'lat_max': '38.7'}\n"
     ]
    }
   ],
   "source": [
    "filename = 'wave_7_locations.csv'\n",
    "locations: list[LocationData] = []\n",
    "\n",
    "with open(filename, 'r') as csvfile:\n",
    "    datareader = csv.DictReader(csvfile, delimiter=',')\n",
    "    for row in datareader:\n",
    "        print(row)\n",
    "        location = LocationData(location=row['location'],\n",
    "                                lon_min=float(row['lon_min']),\n",
    "                                lon_max=float(row['lon_max']),\n",
    "                                lat_min=float(row['lat_min']),\n",
    "                                lat_max=float(row['lat_max']))\n",
    "        locations.append(location)\n",
    "\n",
    "\n"
   ]
  },
  {
   "cell_type": "code",
   "execution_count": 25,
   "metadata": {},
   "outputs": [
    {
     "data": {
      "text/plain": [
       "[LocationData(location='AgApostoloi', lon_min=24.23, lon_max=24.39, lat_min=38.25, lat_max=38.47),\n",
       " LocationData(location='Gyaros', lon_min=24.47, lon_max=24.77, lat_min=37.5, lat_max=37.7),\n",
       " LocationData(location='Donousa2', lon_min=25.81, lon_max=26.02, lat_min=37.05, lat_max=37.16),\n",
       " LocationData(location='Crete1', lon_min=26.27, lon_max=26.47, lat_min=34.96, lat_max=35.2),\n",
       " LocationData(location='Crete2b', lon_min=25.6, lon_max=25.95, lat_min=35.24, lat_max=35.5),\n",
       " LocationData(location='Rhodes', lon_min=27.55, lon_max=27.77, lat_min=35.77, lat_max=36.2),\n",
       " LocationData(location='Chios', lon_min=25.72, lon_max=25.86, lat_min=38.55, lat_max=38.7)]"
      ]
     },
     "execution_count": 25,
     "metadata": {},
     "output_type": "execute_result"
    }
   ],
   "source": [
    "locations"
   ]
  },
  {
   "cell_type": "code",
   "execution_count": 26,
   "metadata": {},
   "outputs": [
    {
     "name": "stdout",
     "output_type": "stream",
     "text": [
      "INFO - 2024-03-27T10:59:57Z - You forced selection of dataset version \"202105\"\n",
      "INFO - 2024-03-27T10:59:57Z - Dataset part was not specified, the first one was selected: \"default\"\n",
      "INFO - 2024-03-27T10:59:59Z - Service was not specified, the default one was selected: \"arco-time-series\"\n",
      "INFO - 2024-03-27T11:00:00Z - Downloading using service arco-time-series...\n",
      "INFO - 2024-03-27T11:00:01Z - Estimated size of the dataset file is 318.520 MB.\n",
      "INFO - 2024-03-27T11:00:01Z - Writing to local storage. Please wait...\n"
     ]
    },
    {
     "name": "stderr",
     "output_type": "stream",
     "text": [
      "d:\\mypython_projects\\forcys\\.venv\\Lib\\site-packages\\copernicusmarine\\download_functions\\download_arco_series.py:50: FutureWarning: The return type of `Dataset.dims` will be changed to return a set of dimension names in future, in order to be more consistent with `DataArray.dims`. To access a mapping from dimension names to lengths, please use `Dataset.sizes`.\n",
      "  _filter_dimensions(preferred_chunks, dataset.dims.keys())\n"
     ]
    },
    {
     "data": {
      "application/vnd.jupyter.widget-view+json": {
       "model_id": "d8ef61f963fd45fe971d91141df08f1d",
       "version_major": 2,
       "version_minor": 0
      },
      "text/plain": [
       "  0%|          | 0/1532 [00:00<?, ?it/s]"
      ]
     },
     "metadata": {},
     "output_type": "display_data"
    },
    {
     "name": "stdout",
     "output_type": "stream",
     "text": [
      "INFO - 2024-03-27T11:00:23Z - Successfully downloaded to waveAgApostoloi.nc\n",
      "INFO - 2024-03-27T11:00:24Z - You forced selection of dataset version \"202105\"\n",
      "INFO - 2024-03-27T11:00:24Z - Dataset part was not specified, the first one was selected: \"default\"\n",
      "INFO - 2024-03-27T11:00:26Z - Service was not specified, the default one was selected: \"arco-time-series\"\n",
      "INFO - 2024-03-27T11:00:27Z - Downloading using service arco-time-series...\n",
      "INFO - 2024-03-27T11:00:28Z - Estimated size of the dataset file is 557.411 MB.\n",
      "INFO - 2024-03-27T11:00:28Z - Writing to local storage. Please wait...\n"
     ]
    },
    {
     "name": "stderr",
     "output_type": "stream",
     "text": [
      "d:\\mypython_projects\\forcys\\.venv\\Lib\\site-packages\\copernicusmarine\\download_functions\\download_arco_series.py:50: FutureWarning: The return type of `Dataset.dims` will be changed to return a set of dimension names in future, in order to be more consistent with `DataArray.dims`. To access a mapping from dimension names to lengths, please use `Dataset.sizes`.\n",
      "  _filter_dimensions(preferred_chunks, dataset.dims.keys())\n"
     ]
    },
    {
     "data": {
      "application/vnd.jupyter.widget-view+json": {
       "model_id": "32378ec921a44e51bafec5ec76410693",
       "version_major": 2,
       "version_minor": 0
      },
      "text/plain": [
       "  0%|          | 0/2382 [00:00<?, ?it/s]"
      ]
     },
     "metadata": {},
     "output_type": "display_data"
    },
    {
     "name": "stdout",
     "output_type": "stream",
     "text": [
      "INFO - 2024-03-27T11:01:02Z - Successfully downloaded to waveGyaros.nc\n",
      "INFO - 2024-03-27T11:01:03Z - You forced selection of dataset version \"202105\"\n",
      "INFO - 2024-03-27T11:01:03Z - Dataset part was not specified, the first one was selected: \"default\"\n",
      "INFO - 2024-03-27T11:01:05Z - Service was not specified, the default one was selected: \"arco-time-series\"\n",
      "INFO - 2024-03-27T11:01:06Z - Downloading using service arco-time-series...\n",
      "INFO - 2024-03-27T11:01:07Z - Estimated size of the dataset file is 238.890 MB.\n",
      "INFO - 2024-03-27T11:01:07Z - Writing to local storage. Please wait...\n"
     ]
    },
    {
     "name": "stderr",
     "output_type": "stream",
     "text": [
      "d:\\mypython_projects\\forcys\\.venv\\Lib\\site-packages\\copernicusmarine\\download_functions\\download_arco_series.py:50: FutureWarning: The return type of `Dataset.dims` will be changed to return a set of dimension names in future, in order to be more consistent with `DataArray.dims`. To access a mapping from dimension names to lengths, please use `Dataset.sizes`.\n",
      "  _filter_dimensions(preferred_chunks, dataset.dims.keys())\n"
     ]
    },
    {
     "data": {
      "application/vnd.jupyter.widget-view+json": {
       "model_id": "4c699e7614af480f8afde7f87777bed5",
       "version_major": 2,
       "version_minor": 0
      },
      "text/plain": [
       "  0%|          | 0/937 [00:00<?, ?it/s]"
      ]
     },
     "metadata": {},
     "output_type": "display_data"
    },
    {
     "name": "stdout",
     "output_type": "stream",
     "text": [
      "INFO - 2024-03-27T11:01:21Z - Successfully downloaded to waveDonousa2.nc\n",
      "INFO - 2024-03-27T11:01:22Z - You forced selection of dataset version \"202105\"\n",
      "INFO - 2024-03-27T11:01:22Z - Dataset part was not specified, the first one was selected: \"default\"\n",
      "INFO - 2024-03-27T11:01:24Z - Service was not specified, the default one was selected: \"arco-time-series\"\n",
      "INFO - 2024-03-27T11:01:25Z - Downloading using service arco-time-series...\n",
      "INFO - 2024-03-27T11:01:26Z - Estimated size of the dataset file is 477.780 MB.\n",
      "INFO - 2024-03-27T11:01:26Z - Writing to local storage. Please wait...\n"
     ]
    },
    {
     "name": "stderr",
     "output_type": "stream",
     "text": [
      "d:\\mypython_projects\\forcys\\.venv\\Lib\\site-packages\\copernicusmarine\\download_functions\\download_arco_series.py:50: FutureWarning: The return type of `Dataset.dims` will be changed to return a set of dimension names in future, in order to be more consistent with `DataArray.dims`. To access a mapping from dimension names to lengths, please use `Dataset.sizes`.\n",
      "  _filter_dimensions(preferred_chunks, dataset.dims.keys())\n"
     ]
    },
    {
     "data": {
      "application/vnd.jupyter.widget-view+json": {
       "model_id": "04cad386cff845d599484c9f96fbbfdb",
       "version_major": 2,
       "version_minor": 0
      },
      "text/plain": [
       "  0%|          | 0/2892 [00:00<?, ?it/s]"
      ]
     },
     "metadata": {},
     "output_type": "display_data"
    },
    {
     "name": "stdout",
     "output_type": "stream",
     "text": [
      "INFO - 2024-03-27T11:01:59Z - Successfully downloaded to waveCrete1.nc\n",
      "INFO - 2024-03-27T11:02:00Z - You forced selection of dataset version \"202105\"\n",
      "INFO - 2024-03-27T11:02:00Z - Dataset part was not specified, the first one was selected: \"default\"\n",
      "INFO - 2024-03-27T11:02:02Z - Service was not specified, the default one was selected: \"arco-time-series\"\n",
      "INFO - 2024-03-27T11:02:03Z - Downloading using service arco-time-series...\n",
      "INFO - 2024-03-27T11:02:05Z - Estimated size of the dataset file is 764.449 MB.\n",
      "INFO - 2024-03-27T11:02:05Z - Writing to local storage. Please wait...\n"
     ]
    },
    {
     "name": "stderr",
     "output_type": "stream",
     "text": [
      "d:\\mypython_projects\\forcys\\.venv\\Lib\\site-packages\\copernicusmarine\\download_functions\\download_arco_series.py:50: FutureWarning: The return type of `Dataset.dims` will be changed to return a set of dimension names in future, in order to be more consistent with `DataArray.dims`. To access a mapping from dimension names to lengths, please use `Dataset.sizes`.\n",
      "  _filter_dimensions(preferred_chunks, dataset.dims.keys())\n"
     ]
    },
    {
     "data": {
      "application/vnd.jupyter.widget-view+json": {
       "model_id": "6ca33a443db340a4925cd6e99e3e0a58",
       "version_major": 2,
       "version_minor": 0
      },
      "text/plain": [
       "  0%|          | 0/2892 [00:00<?, ?it/s]"
      ]
     },
     "metadata": {},
     "output_type": "display_data"
    },
    {
     "name": "stdout",
     "output_type": "stream",
     "text": [
      "INFO - 2024-03-27T11:02:33Z - Successfully downloaded to waveCrete2b.nc\n",
      "INFO - 2024-03-27T11:02:34Z - You forced selection of dataset version \"202105\"\n",
      "INFO - 2024-03-27T11:02:34Z - Dataset part was not specified, the first one was selected: \"default\"\n",
      "INFO - 2024-03-27T11:02:36Z - Service was not specified, the default one was selected: \"arco-time-series\"\n",
      "INFO - 2024-03-27T11:02:37Z - Downloading using service arco-time-series...\n",
      "INFO - 2024-03-27T11:02:39Z - Estimated size of the dataset file is 875.931 MB.\n",
      "INFO - 2024-03-27T11:02:39Z - Writing to local storage. Please wait...\n"
     ]
    },
    {
     "name": "stderr",
     "output_type": "stream",
     "text": [
      "d:\\mypython_projects\\forcys\\.venv\\Lib\\site-packages\\copernicusmarine\\download_functions\\download_arco_series.py:50: FutureWarning: The return type of `Dataset.dims` will be changed to return a set of dimension names in future, in order to be more consistent with `DataArray.dims`. To access a mapping from dimension names to lengths, please use `Dataset.sizes`.\n",
      "  _filter_dimensions(preferred_chunks, dataset.dims.keys())\n"
     ]
    },
    {
     "data": {
      "application/vnd.jupyter.widget-view+json": {
       "model_id": "ebb60b1b9d34490a935a1e1366016928",
       "version_major": 2,
       "version_minor": 0
      },
      "text/plain": [
       "  0%|          | 0/4252 [00:00<?, ?it/s]"
      ]
     },
     "metadata": {},
     "output_type": "display_data"
    },
    {
     "name": "stdout",
     "output_type": "stream",
     "text": [
      "INFO - 2024-03-27T11:03:16Z - Successfully downloaded to waveRhodes.nc\n",
      "INFO - 2024-03-27T11:03:17Z - You forced selection of dataset version \"202105\"\n",
      "INFO - 2024-03-27T11:03:17Z - Dataset part was not specified, the first one was selected: \"default\"\n",
      "INFO - 2024-03-27T11:03:19Z - Service was not specified, the default one was selected: \"arco-time-series\"\n",
      "INFO - 2024-03-27T11:03:20Z - Downloading using service arco-time-series...\n",
      "INFO - 2024-03-27T11:03:22Z - Estimated size of the dataset file is 191.112 MB.\n",
      "INFO - 2024-03-27T11:03:22Z - Writing to local storage. Please wait...\n"
     ]
    },
    {
     "name": "stderr",
     "output_type": "stream",
     "text": [
      "d:\\mypython_projects\\forcys\\.venv\\Lib\\site-packages\\copernicusmarine\\download_functions\\download_arco_series.py:50: FutureWarning: The return type of `Dataset.dims` will be changed to return a set of dimension names in future, in order to be more consistent with `DataArray.dims`. To access a mapping from dimension names to lengths, please use `Dataset.sizes`.\n",
      "  _filter_dimensions(preferred_chunks, dataset.dims.keys())\n"
     ]
    },
    {
     "data": {
      "application/vnd.jupyter.widget-view+json": {
       "model_id": "a1e65d7bba064f41887d15a79c425332",
       "version_major": 2,
       "version_minor": 0
      },
      "text/plain": [
       "  0%|          | 0/597 [00:00<?, ?it/s]"
      ]
     },
     "metadata": {},
     "output_type": "display_data"
    },
    {
     "name": "stdout",
     "output_type": "stream",
     "text": [
      "INFO - 2024-03-27T11:03:35Z - Successfully downloaded to waveChios.nc\n"
     ]
    }
   ],
   "source": [
    "for location in locations:\n",
    "    cm.subset(\n",
    "        dataset_id=DATASET_ID,\n",
    "        dataset_version=DATASET_VERSION,\n",
    "        variables=VARIABLES,\n",
    "        minimum_longitude=location.lon_min,\n",
    "        maximum_longitude=location.lon_max,\n",
    "        minimum_latitude=location.lat_min,\n",
    "        maximum_latitude=location.lat_max,\n",
    "        start_datetime=START_DATETIME,\n",
    "        end_datetime=END_DATETIME,\n",
    "        force_download=True,\n",
    "        output_filename=f\"wave{location.location}.nc\"\n",
    "    )"
   ]
  }
 ],
 "metadata": {
  "kernelspec": {
   "display_name": ".venv",
   "language": "python",
   "name": "python3"
  },
  "language_info": {
   "codemirror_mode": {
    "name": "ipython",
    "version": 3
   },
   "file_extension": ".py",
   "mimetype": "text/x-python",
   "name": "python",
   "nbconvert_exporter": "python",
   "pygments_lexer": "ipython3",
   "version": "3.11.7"
  }
 },
 "nbformat": 4,
 "nbformat_minor": 2
}
