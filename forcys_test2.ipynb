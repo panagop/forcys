{
 "cells": [
  {
   "cell_type": "code",
   "execution_count": 9,
   "metadata": {},
   "outputs": [],
   "source": [
    "from forcys.wavedata import WaveDataFile, WaveVariable\n",
    "from forcys.time_funcs import timestring\n",
    "import numpy as np\n",
    "# from virocon import (\n",
    "#     read_ec_benchmark_dataset,\n",
    "#     get_OMAE2020_Hs_Tz,\n",
    "#     GlobalHierarchicalModel,\n",
    "#     IFORMContour,\n",
    "#     plot_2D_contour,\n",
    "# )\n"
   ]
  },
  {
   "cell_type": "code",
   "execution_count": 2,
   "metadata": {},
   "outputs": [],
   "source": [
    "wdf = WaveDataFile.from_file('data/med-hcmr-wav-rean-h_1702801153952_n5.nc')"
   ]
  },
  {
   "cell_type": "code",
   "execution_count": 3,
   "metadata": {},
   "outputs": [],
   "source": [
    "selected_variable = 'VHM0'\n",
    "\n",
    "myvar = WaveVariable(wdf, selected_variable)"
   ]
  },
  {
   "cell_type": "code",
   "execution_count": 8,
   "metadata": {},
   "outputs": [],
   "source": [
    "times = wdf.time\n",
    "xxx = myvar.get_time_history_at_coords(37.0625, 25.833334)"
   ]
  },
  {
   "cell_type": "code",
   "execution_count": 5,
   "metadata": {},
   "outputs": [
    {
     "data": {
      "text/plain": [
       "2"
      ]
     },
     "execution_count": 5,
     "metadata": {},
     "output_type": "execute_result"
    }
   ],
   "source": [
    "np.where(wdf.lat == 37.145832)[0][0]"
   ]
  },
  {
   "cell_type": "code",
   "execution_count": 6,
   "metadata": {},
   "outputs": [],
   "source": [
    "# wdf.variables"
   ]
  },
  {
   "cell_type": "code",
   "execution_count": 7,
   "metadata": {},
   "outputs": [],
   "source": [
    "wv = WaveVariable(wdf, 'VHM0_WW')"
   ]
  },
  {
   "cell_type": "code",
   "execution_count": 8,
   "metadata": {},
   "outputs": [
    {
     "data": {
      "text/plain": [
       "(8785, 3, 5)"
      ]
     },
     "execution_count": 8,
     "metadata": {},
     "output_type": "execute_result"
    }
   ],
   "source": [
    "wv.values.shape"
   ]
  },
  {
   "cell_type": "code",
   "execution_count": 9,
   "metadata": {},
   "outputs": [],
   "source": [
    "def get_values_at_indices(masked_array,\n",
    "                lat_index: int, lon_index: int) -> np.ma.masked_array:\n",
    "    \"\"\"\n",
    "    Get values from a masked array at specified indices across all arrays.\n",
    "\n",
    "    Parameters:\n",
    "        masked_array (numpy.ma.masked_array): The masked array.\n",
    "        index1 (int): Index along the second dimension.\n",
    "        index2 (int): Index along the third dimension.\n",
    "\n",
    "    Returns:\n",
    "        list: Values from the masked array at specified indices.\n",
    "    \"\"\"\n",
    "    values = masked_array[:, lat_index, lon_index]\n",
    "    return values"
   ]
  },
  {
   "cell_type": "code",
   "execution_count": 10,
   "metadata": {},
   "outputs": [
    {
     "data": {
      "text/plain": [
       "masked_array(data=[0.808     , 0.90500003, 0.96000004, ..., 1.0480001 ,\n",
       "                   0.89500004, 0.78200006],\n",
       "             mask=False,\n",
       "       fill_value=1e+20,\n",
       "            dtype=float32)"
      ]
     },
     "execution_count": 10,
     "metadata": {},
     "output_type": "execute_result"
    }
   ],
   "source": [
    "get_values_at_indices(wv.values, lat_index=2, lon_index=4)"
   ]
  },
  {
   "cell_type": "code",
   "execution_count": 15,
   "metadata": {},
   "outputs": [
    {
     "data": {
      "text/plain": [
       "masked_array(data=[0.79800004, 0.90400004, 0.96800005, ..., 1.021     ,\n",
       "                   0.82400006, 0.73300004],\n",
       "             mask=False,\n",
       "       fill_value=1e+20,\n",
       "            dtype=float32)"
      ]
     },
     "execution_count": 15,
     "metadata": {},
     "output_type": "execute_result"
    }
   ],
   "source": [
    "wv.get_time_history_at_coord_indices(lat_index=2, lon_index=1)"
   ]
  },
  {
   "cell_type": "code",
   "execution_count": 13,
   "metadata": {},
   "outputs": [],
   "source": [
    "# lon 25.875002\n",
    "# lat 37.145832"
   ]
  },
  {
   "cell_type": "code",
   "execution_count": 16,
   "metadata": {},
   "outputs": [
    {
     "data": {
      "text/plain": [
       "8785"
      ]
     },
     "execution_count": 16,
     "metadata": {},
     "output_type": "execute_result"
    }
   ],
   "source": [
    "wv.get_time_history_at_coords(lon=25.875002, lat=37.145832)"
   ]
  }
 ],
 "metadata": {
  "kernelspec": {
   "display_name": ".venv",
   "language": "python",
   "name": "python3"
  },
  "language_info": {
   "codemirror_mode": {
    "name": "ipython",
    "version": 3
   },
   "file_extension": ".py",
   "mimetype": "text/x-python",
   "name": "python",
   "nbconvert_exporter": "python",
   "pygments_lexer": "ipython3",
   "version": "3.11.7"
  }
 },
 "nbformat": 4,
 "nbformat_minor": 2
}
