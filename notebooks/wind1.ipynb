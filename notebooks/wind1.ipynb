{
 "cells": [
  {
   "cell_type": "code",
   "execution_count": 1,
   "metadata": {},
   "outputs": [],
   "source": [
    "from dataclasses import dataclass\n",
    "from functools import cached_property\n",
    "import netCDF4\n",
    "from datetime import datetime, timedelta\n",
    "import numpy as np\n",
    "from forcys.wavedata import WaveDataFile"
   ]
  },
  {
   "cell_type": "code",
   "execution_count": 166,
   "metadata": {},
   "outputs": [],
   "source": [
    "@dataclass\n",
    "class WindDataFile:\n",
    "    \"\"\"WindDataFile class\"\"\"\n",
    "    dataset: netCDF4.Dataset\n",
    "\n",
    "    @classmethod\n",
    "    def from_file(cls, filename: str):\n",
    "        dataset = netCDF4.Dataset(filename)\n",
    "        return cls(dataset)\n",
    "\n",
    "    @cached_property\n",
    "    def variables(self) -> list[str]:\n",
    "        variables = list(self.dataset.variables.keys())\n",
    "        # drop_variables = ['time', 'latitude', 'longitude']\n",
    "        # variables = [item for item in variables if item not in drop_variables]\n",
    "        return variables"
   ]
  },
  {
   "cell_type": "code",
   "execution_count": 2,
   "metadata": {},
   "outputs": [],
   "source": [
    "path = r'D:\\mypython_projects\\forcys\\mass_downloads\\wind\\AgApostoloi'\n",
    "filename = 'windAgApostoloi_2020.nc'\n",
    "wdf = WaveDataFile.from_file(f'{path}/{filename}')"
   ]
  },
  {
   "cell_type": "code",
   "execution_count": 3,
   "metadata": {},
   "outputs": [
    {
     "data": {
      "text/plain": [
       "['u100', 'v100', 'u10', 'v10']"
      ]
     },
     "execution_count": 3,
     "metadata": {},
     "output_type": "execute_result"
    }
   ],
   "source": [
    "wdf.variables"
   ]
  },
  {
   "cell_type": "code",
   "execution_count": 5,
   "metadata": {},
   "outputs": [
    {
     "data": {
      "text/plain": [
       "masked_array(data=[datetime.datetime(2020, 1, 1, 0, 0),\n",
       "                   datetime.datetime(2020, 1, 1, 1, 0),\n",
       "                   datetime.datetime(2020, 1, 1, 2, 0),\n",
       "                   datetime.datetime(2020, 1, 1, 3, 0),\n",
       "                   datetime.datetime(2020, 1, 1, 4, 0),\n",
       "                   datetime.datetime(2020, 1, 1, 5, 0),\n",
       "                   datetime.datetime(2020, 1, 1, 6, 0),\n",
       "                   datetime.datetime(2020, 1, 1, 7, 0),\n",
       "                   datetime.datetime(2020, 1, 1, 8, 0),\n",
       "                   datetime.datetime(2020, 1, 1, 9, 0),\n",
       "                   datetime.datetime(2020, 1, 1, 10, 0),\n",
       "                   datetime.datetime(2020, 1, 1, 11, 0),\n",
       "                   datetime.datetime(2020, 1, 1, 12, 0),\n",
       "                   datetime.datetime(2020, 1, 1, 13, 0),\n",
       "                   datetime.datetime(2020, 1, 1, 14, 0),\n",
       "                   datetime.datetime(2020, 1, 1, 15, 0),\n",
       "                   datetime.datetime(2020, 1, 1, 16, 0),\n",
       "                   datetime.datetime(2020, 1, 1, 17, 0),\n",
       "                   datetime.datetime(2020, 1, 1, 18, 0),\n",
       "                   datetime.datetime(2020, 1, 1, 19, 0),\n",
       "                   datetime.datetime(2020, 1, 1, 20, 0),\n",
       "                   datetime.datetime(2020, 1, 1, 21, 0),\n",
       "                   datetime.datetime(2020, 1, 1, 22, 0),\n",
       "                   datetime.datetime(2020, 1, 1, 23, 0),\n",
       "                   datetime.datetime(2020, 1, 2, 0, 0),\n",
       "                   datetime.datetime(2020, 1, 2, 1, 0)],\n",
       "             mask=False,\n",
       "       fill_value='?',\n",
       "            dtype=object)"
      ]
     },
     "execution_count": 5,
     "metadata": {},
     "output_type": "execute_result"
    }
   ],
   "source": [
    "wdf.datetime[:26]"
   ]
  },
  {
   "cell_type": "code",
   "execution_count": 169,
   "metadata": {},
   "outputs": [
    {
     "data": {
      "text/plain": [
       "masked_array(data=[1051896, 1051897, 1051898, 1051899, 1051900, 1051901,\n",
       "                   1051902, 1051903, 1051904, 1051905, 1051906, 1051907,\n",
       "                   1051908, 1051909, 1051910, 1051911, 1051912, 1051913,\n",
       "                   1051914, 1051915],\n",
       "             mask=False,\n",
       "       fill_value=999999)"
      ]
     },
     "execution_count": 169,
     "metadata": {},
     "output_type": "execute_result"
    }
   ],
   "source": [
    "wdf.dataset.variables['time'][:20]"
   ]
  },
  {
   "cell_type": "code",
   "execution_count": 181,
   "metadata": {},
   "outputs": [
    {
     "name": "stdout",
     "output_type": "stream",
     "text": [
      "1051896\n",
      "2020-01-01 00:00:00\n",
      "1970-01-13 06:11:36\n"
     ]
    }
   ],
   "source": [
    "base_date = datetime(1900, 1, 1)\n",
    "\n",
    "t = int(wdf.dataset.variables['time'][0])\n",
    "print(t)\n",
    "time_delta = timedelta(hours=t)\n",
    "target_date = base_date + time_delta\n",
    "\n",
    "print(target_date.strftime('%Y-%m-%d %H:%M:%S'))\n",
    "\n",
    "print(datetime.fromtimestamp(t).strftime('%Y-%m-%d %H:%M:%S'))"
   ]
  },
  {
   "cell_type": "code",
   "execution_count": 183,
   "metadata": {},
   "outputs": [
    {
     "data": {
      "text/plain": [
       "masked_array(data=[cftime.DatetimeGregorian(2020, 1, 1, 0, 0, 0, 0, has_year_zero=False),\n",
       "                   cftime.DatetimeGregorian(2020, 1, 1, 1, 0, 0, 0, has_year_zero=False),\n",
       "                   cftime.DatetimeGregorian(2020, 1, 1, 2, 0, 0, 0, has_year_zero=False),\n",
       "                   cftime.DatetimeGregorian(2020, 1, 1, 3, 0, 0, 0, has_year_zero=False),\n",
       "                   cftime.DatetimeGregorian(2020, 1, 1, 4, 0, 0, 0, has_year_zero=False),\n",
       "                   cftime.DatetimeGregorian(2020, 1, 1, 5, 0, 0, 0, has_year_zero=False),\n",
       "                   cftime.DatetimeGregorian(2020, 1, 1, 6, 0, 0, 0, has_year_zero=False),\n",
       "                   cftime.DatetimeGregorian(2020, 1, 1, 7, 0, 0, 0, has_year_zero=False),\n",
       "                   cftime.DatetimeGregorian(2020, 1, 1, 8, 0, 0, 0, has_year_zero=False),\n",
       "                   cftime.DatetimeGregorian(2020, 1, 1, 9, 0, 0, 0, has_year_zero=False),\n",
       "                   cftime.DatetimeGregorian(2020, 1, 1, 10, 0, 0, 0, has_year_zero=False),\n",
       "                   cftime.DatetimeGregorian(2020, 1, 1, 11, 0, 0, 0, has_year_zero=False),\n",
       "                   cftime.DatetimeGregorian(2020, 1, 1, 12, 0, 0, 0, has_year_zero=False),\n",
       "                   cftime.DatetimeGregorian(2020, 1, 1, 13, 0, 0, 0, has_year_zero=False),\n",
       "                   cftime.DatetimeGregorian(2020, 1, 1, 14, 0, 0, 0, has_year_zero=False),\n",
       "                   cftime.DatetimeGregorian(2020, 1, 1, 15, 0, 0, 0, has_year_zero=False),\n",
       "                   cftime.DatetimeGregorian(2020, 1, 1, 16, 0, 0, 0, has_year_zero=False),\n",
       "                   cftime.DatetimeGregorian(2020, 1, 1, 17, 0, 0, 0, has_year_zero=False),\n",
       "                   cftime.DatetimeGregorian(2020, 1, 1, 18, 0, 0, 0, has_year_zero=False),\n",
       "                   cftime.DatetimeGregorian(2020, 1, 1, 19, 0, 0, 0, has_year_zero=False)],\n",
       "             mask=False,\n",
       "       fill_value='?',\n",
       "            dtype=object)"
      ]
     },
     "execution_count": 183,
     "metadata": {},
     "output_type": "execute_result"
    }
   ],
   "source": [
    "datesnew = netCDF4.num2date(wdf.dataset.variables['time'][:],\n",
    "                             wdf.dataset.variables['time'].units,\n",
    "                            wdf.dataset.variables['time'].calendar)\n",
    "datesnew[:20]"
   ]
  },
  {
   "cell_type": "code",
   "execution_count": 188,
   "metadata": {},
   "outputs": [
    {
     "data": {
      "text/plain": [
       "masked_array(data=[datetime.datetime(2020, 1, 1, 0, 0),\n",
       "                   datetime.datetime(2020, 1, 1, 1, 0),\n",
       "                   datetime.datetime(2020, 1, 1, 2, 0), ...,\n",
       "                   datetime.datetime(2020, 12, 31, 21, 0),\n",
       "                   datetime.datetime(2020, 12, 31, 22, 0),\n",
       "                   datetime.datetime(2020, 12, 31, 23, 0)],\n",
       "             mask=False,\n",
       "       fill_value='?',\n",
       "            dtype=object)"
      ]
     },
     "execution_count": 188,
     "metadata": {},
     "output_type": "execute_result"
    }
   ],
   "source": [
    "masked_array_datetime = np.ma.masked_array(\n",
    "    data=[datetime(*d.timetuple()[:6]) for d in datesnew],\n",
    "    mask=datesnew.mask\n",
    ")\n",
    "masked_array_datetime"
   ]
  },
  {
   "cell_type": "code",
   "execution_count": 171,
   "metadata": {},
   "outputs": [],
   "source": [
    "# ttts = wdf.dataset.variables['time'][:]\n",
    "# print(ttts[:])\n",
    "# ttts2 = ttts + base_date\n",
    "# print(ttts2[:])"
   ]
  },
  {
   "cell_type": "code",
   "execution_count": 179,
   "metadata": {},
   "outputs": [
    {
     "name": "stdout",
     "output_type": "stream",
     "text": [
      "2020-01-13 06:11:36\n"
     ]
    }
   ],
   "source": [
    "timestamps = wdf.dataset.variables['time'][:]\n",
    "datetimes = np.ma.array(np.datetime64('1900-01-01') + timestamps.astype('timedelta64[s]'), \n",
    "                     mask=timestamps.mask)\n",
    "timedelta2 = np.timedelta64(time_delta, 's')\n",
    "updated_datetimes = datetimes + timedelta2\n",
    "\n",
    "updated_timestamps = np.ma.array((updated_datetimes - np.datetime64('1970-01-01')) / np.timedelta64(1, 's'), \n",
    "                              mask=timestamps.mask).astype(int)\n",
    "\n",
    "print(datetime.fromtimestamp(updated_timestamps[0]))"
   ]
  }
 ],
 "metadata": {
  "kernelspec": {
   "display_name": ".venv",
   "language": "python",
   "name": "python3"
  },
  "language_info": {
   "codemirror_mode": {
    "name": "ipython",
    "version": 3
   },
   "file_extension": ".py",
   "mimetype": "text/x-python",
   "name": "python",
   "nbconvert_exporter": "python",
   "pygments_lexer": "ipython3",
   "version": "3.11.7"
  }
 },
 "nbformat": 4,
 "nbformat_minor": 2
}
